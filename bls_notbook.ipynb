{
 "nbformat": 4,
 "nbformat_minor": 2,
 "metadata": {
  "language_info": {
   "name": "python",
   "codemirror_mode": {
    "name": "ipython",
    "version": 3
   },
   "version": "3.8.2-final"
  },
  "orig_nbformat": 2,
  "file_extension": ".py",
  "mimetype": "text/x-python",
  "name": "python",
  "npconvert_exporter": "python",
  "pygments_lexer": "ipython3",
  "version": 3,
  "kernelspec": {
   "name": "python38232bitd16a51b768b34bcfb2cdaa4b689744c0",
   "display_name": "Python 3.8.2 32-bit"
  }
 },
 "cells": [
  {
   "cell_type": "markdown",
   "metadata": {},
   "source": [
    "# Compiling data from the Bureau of Labor Statistics (BLS)\n"
   ]
  },
  {
   "cell_type": "code",
   "execution_count": 1,
   "metadata": {},
   "outputs": [],
   "source": [
    "# Step 1: Import necessary functions and dataset\n",
    "\n",
    "import pandas as pd\n",
    "import numpy as np\n",
    "import csv\n",
    "\n",
    "data_url = 'https://data.bls.gov/cew/data/api/2019/3/industry/1026.csv'\n",
    "d1 = pd.read_csv(data_url)\n",
    "\n",
    "headers = ['area_fips', 'own_code', 'industry_code', 'agglvl_code', 'year', 'qtr', 'qtrly_estabs', 'month1_emplvl', 'month2_emplvl', 'month3_emplvl', 'total_qtrly_wages', 'avg_wkly_wage', 'lq_month1_emplvl', 'lq_month2_emplvl', 'lq_month3_emplvl', 'lq_total_qtrly_wages']\n",
    "\n",
    "d2 = d1[headers]"
   ]
  },
  {
   "cell_type": "code",
   "execution_count": 2,
   "metadata": {},
   "outputs": [
    {
     "output_type": "execute_result",
     "data": {
      "text/plain": "       own_code  industry_code  agglvl_code    year     qtr  qtrly_estabs  \\\ncount    3264.0         3264.0       3264.0  3264.0  3264.0   3264.000000   \nmean        5.0         1026.0         73.0  2019.0     3.0    272.746324   \nstd         0.0            0.0          0.0     0.0     0.0   1034.352294   \nmin         5.0         1026.0         73.0  2019.0     3.0      0.000000   \n25%         5.0         1026.0         73.0  2019.0     3.0     23.000000   \n50%         5.0         1026.0         73.0  2019.0     3.0     59.000000   \n75%         5.0         1026.0         73.0  2019.0     3.0    172.000000   \nmax         5.0         1026.0         73.0  2019.0     3.0  39222.000000   \n\n       month1_emplvl  month2_emplvl  month3_emplvl  total_qtrly_wages  \\\ncount    3264.000000    3264.000000    3264.000000       3.264000e+03   \nmean     5252.604167    5242.060662    5098.832414       3.224934e+07   \nstd     19728.178627   19687.332774   19479.534620       1.642614e+08   \nmin         0.000000       0.000000       0.000000       0.000000e+00   \n25%       246.500000     244.000000     232.000000       8.568332e+05   \n50%       813.000000     809.000000     782.500000       3.248264e+06   \n75%      2940.250000    2934.750000    2802.250000       1.369625e+07   \nmax    549798.000000  548961.000000  547879.000000       5.019664e+09   \n\n       avg_wkly_wage  lq_month1_emplvl  lq_month2_emplvl  lq_month3_emplvl  \\\ncount    3264.000000       3264.000000       3264.000000       3264.000000   \nmean      323.469056          0.909409          0.905187          0.890313   \nstd       133.491218          0.576393          0.569938          0.550077   \nmin         0.000000          0.000000          0.000000          0.000000   \n25%       260.000000          0.600000          0.600000          0.590000   \n50%       302.000000          0.840000          0.830000          0.830000   \n75%       365.000000          1.070000          1.070000          1.060000   \nmax      1463.000000          7.090000          7.140000          7.340000   \n\n       lq_total_qtrly_wages  \ncount           3264.000000  \nmean               0.953131  \nstd                1.025436  \nmin                0.000000  \n25%                0.490000  \n50%                0.730000  \n75%                1.040000  \nmax               15.980000  ",
      "text/html": "<div>\n<style scoped>\n    .dataframe tbody tr th:only-of-type {\n        vertical-align: middle;\n    }\n\n    .dataframe tbody tr th {\n        vertical-align: top;\n    }\n\n    .dataframe thead th {\n        text-align: right;\n    }\n</style>\n<table border=\"1\" class=\"dataframe\">\n  <thead>\n    <tr style=\"text-align: right;\">\n      <th></th>\n      <th>own_code</th>\n      <th>industry_code</th>\n      <th>agglvl_code</th>\n      <th>year</th>\n      <th>qtr</th>\n      <th>qtrly_estabs</th>\n      <th>month1_emplvl</th>\n      <th>month2_emplvl</th>\n      <th>month3_emplvl</th>\n      <th>total_qtrly_wages</th>\n      <th>avg_wkly_wage</th>\n      <th>lq_month1_emplvl</th>\n      <th>lq_month2_emplvl</th>\n      <th>lq_month3_emplvl</th>\n      <th>lq_total_qtrly_wages</th>\n    </tr>\n  </thead>\n  <tbody>\n    <tr>\n      <th>count</th>\n      <td>3264.0</td>\n      <td>3264.0</td>\n      <td>3264.0</td>\n      <td>3264.0</td>\n      <td>3264.0</td>\n      <td>3264.000000</td>\n      <td>3264.000000</td>\n      <td>3264.000000</td>\n      <td>3264.000000</td>\n      <td>3.264000e+03</td>\n      <td>3264.000000</td>\n      <td>3264.000000</td>\n      <td>3264.000000</td>\n      <td>3264.000000</td>\n      <td>3264.000000</td>\n    </tr>\n    <tr>\n      <th>mean</th>\n      <td>5.0</td>\n      <td>1026.0</td>\n      <td>73.0</td>\n      <td>2019.0</td>\n      <td>3.0</td>\n      <td>272.746324</td>\n      <td>5252.604167</td>\n      <td>5242.060662</td>\n      <td>5098.832414</td>\n      <td>3.224934e+07</td>\n      <td>323.469056</td>\n      <td>0.909409</td>\n      <td>0.905187</td>\n      <td>0.890313</td>\n      <td>0.953131</td>\n    </tr>\n    <tr>\n      <th>std</th>\n      <td>0.0</td>\n      <td>0.0</td>\n      <td>0.0</td>\n      <td>0.0</td>\n      <td>0.0</td>\n      <td>1034.352294</td>\n      <td>19728.178627</td>\n      <td>19687.332774</td>\n      <td>19479.534620</td>\n      <td>1.642614e+08</td>\n      <td>133.491218</td>\n      <td>0.576393</td>\n      <td>0.569938</td>\n      <td>0.550077</td>\n      <td>1.025436</td>\n    </tr>\n    <tr>\n      <th>min</th>\n      <td>5.0</td>\n      <td>1026.0</td>\n      <td>73.0</td>\n      <td>2019.0</td>\n      <td>3.0</td>\n      <td>0.000000</td>\n      <td>0.000000</td>\n      <td>0.000000</td>\n      <td>0.000000</td>\n      <td>0.000000e+00</td>\n      <td>0.000000</td>\n      <td>0.000000</td>\n      <td>0.000000</td>\n      <td>0.000000</td>\n      <td>0.000000</td>\n    </tr>\n    <tr>\n      <th>25%</th>\n      <td>5.0</td>\n      <td>1026.0</td>\n      <td>73.0</td>\n      <td>2019.0</td>\n      <td>3.0</td>\n      <td>23.000000</td>\n      <td>246.500000</td>\n      <td>244.000000</td>\n      <td>232.000000</td>\n      <td>8.568332e+05</td>\n      <td>260.000000</td>\n      <td>0.600000</td>\n      <td>0.600000</td>\n      <td>0.590000</td>\n      <td>0.490000</td>\n    </tr>\n    <tr>\n      <th>50%</th>\n      <td>5.0</td>\n      <td>1026.0</td>\n      <td>73.0</td>\n      <td>2019.0</td>\n      <td>3.0</td>\n      <td>59.000000</td>\n      <td>813.000000</td>\n      <td>809.000000</td>\n      <td>782.500000</td>\n      <td>3.248264e+06</td>\n      <td>302.000000</td>\n      <td>0.840000</td>\n      <td>0.830000</td>\n      <td>0.830000</td>\n      <td>0.730000</td>\n    </tr>\n    <tr>\n      <th>75%</th>\n      <td>5.0</td>\n      <td>1026.0</td>\n      <td>73.0</td>\n      <td>2019.0</td>\n      <td>3.0</td>\n      <td>172.000000</td>\n      <td>2940.250000</td>\n      <td>2934.750000</td>\n      <td>2802.250000</td>\n      <td>1.369625e+07</td>\n      <td>365.000000</td>\n      <td>1.070000</td>\n      <td>1.070000</td>\n      <td>1.060000</td>\n      <td>1.040000</td>\n    </tr>\n    <tr>\n      <th>max</th>\n      <td>5.0</td>\n      <td>1026.0</td>\n      <td>73.0</td>\n      <td>2019.0</td>\n      <td>3.0</td>\n      <td>39222.000000</td>\n      <td>549798.000000</td>\n      <td>548961.000000</td>\n      <td>547879.000000</td>\n      <td>5.019664e+09</td>\n      <td>1463.000000</td>\n      <td>7.090000</td>\n      <td>7.140000</td>\n      <td>7.340000</td>\n      <td>15.980000</td>\n    </tr>\n  </tbody>\n</table>\n</div>"
     },
     "metadata": {},
     "execution_count": 2
    }
   ],
   "source": [
    "# Only consider private, county-level stats\n",
    "\n",
    "d3 = d2[d2['agglvl_code']==73]\n",
    "d4 = d3[d3['own_code']==5]\n",
    "\n",
    "d4.describe()"
   ]
  },
  {
   "cell_type": "code",
   "execution_count": 3,
   "metadata": {},
   "outputs": [],
   "source": [
    "# Combine month-level varibles into a quarter average\n",
    "\n",
    "month_emplvl = ['month1_emplvl', 'month2_emplvl', 'month3_emplvl']\n",
    "d5 = d4[month_emplvl]\n",
    "\n",
    "qtr_emplvl = [np.mean(d5.iloc[row]) for row in range(len(d5))]\n",
    "d4['qtr_emplvl'] = qtr_emplvl\n",
    "\n",
    "\n",
    "lq_month_emplvl = ['lq_month1_emplvl', 'lq_month2_emplvl', 'lq_month3_emplvl']\n",
    "d6 = d4[lq_month_emplvl]\n",
    "\n",
    "lq_qtr_emplvl = [np.mean(d6.iloc[row]) for row in range(len(d6))]\n",
    "d4['lq_qtr_emplvl'] = lq_qtr_emplvl"
   ]
  },
  {
   "cell_type": "code",
   "execution_count": 4,
   "metadata": {},
   "outputs": [],
   "source": [
    "# Import new dataset to label FIPS with county name\n",
    "\n",
    "import os\n",
    "os.getcwd()\n",
    "# os.chdir(r'C:\\Users\\ThomasWeinandy\\OneDrive - BlueGranite, Inc\\Blogs\\covid19_economics') \n",
    "\n",
    "fips = pd.read_csv('area_titles.csv')\n",
    "d7 = pd.merge(d4, fips, how='left', on='area_fips')"
   ]
  },
  {
   "cell_type": "code",
   "execution_count": 5,
   "metadata": {},
   "outputs": [],
   "source": [
    " # Round some digits, shed more variables, rename columns\n",
    "\n",
    "d7['lq_qtr_emplvl'] = np.round(d7['lq_qtr_emplvl'], decimals=2)\n",
    "d7['qtr_emplvl'] = d7['qtr_emplvl'].astype(int)\n",
    "\n",
    "fewer_headers = ['area_fips', 'area_title', 'qtrly_estabs', 'qtr_emplvl', 'avg_wkly_wage', 'total_qtrly_wages', 'lq_qtr_emplvl']\n",
    "d8 = d7[fewer_headers]\n",
    "\n",
    "d8.rename(columns={'area_fips':'fips_id', 'area_title':'county_name', 'qtrly_estabs':'estab_count', 'qtr_emplvl':'emp_count', 'lq_qtr_emplvl':'percent_nat_avg' }, inplace=True)\n",
    "\n",
    "d8.to_csv('county_leisure_emp.csv')"
   ]
  },
  {
   "cell_type": "code",
   "execution_count": 85,
   "metadata": {},
   "outputs": [],
   "source": []
  },
  {
   "cell_type": "code",
   "execution_count": 85,
   "metadata": {},
   "outputs": [],
   "source": []
  },
  {
   "cell_type": "code",
   "execution_count": null,
   "metadata": {},
   "outputs": [],
   "source": []
  }
 ]
}